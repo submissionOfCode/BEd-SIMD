{
 "cells": [
  {
   "cell_type": "code",
   "execution_count": 1,
   "id": "32212519",
   "metadata": {},
   "outputs": [
    {
     "name": "stdout",
     "output_type": "stream",
     "text": [
      "d = t^15 + t^10 + t^9 + t^7 + t^6 + t^5 + t^2 + 1\n",
      "x = t^3 + t^2\n",
      "z = 1\n"
     ]
    }
   ],
   "source": [
    "from sage.all import *\n",
    "\n",
    "# Define the reduction polynomial x^257 + x^12 + 1\n",
    "p = 2\n",
    "n = 257\n",
    "#modulus = \n",
    "\n",
    "# Define the binary field F_2^257\n",
    "F = GF(p**n, name='t', modulus=x^257 + x^12 + 1)  # Finite field with specified modulus\n",
    "t = F.gen()  # Define t as the generator of the finite field\n",
    "\n",
    "\n",
    "d = t^15 + t^10 + t^9 + t^7 + t^6 + t^5 + t^2 + 1\n",
    "\n",
    "# Define constants x and z explicitly\n",
    "x = t^3 + t^2  # x = 0xc\n",
    "z = 1          # z = 0x1\n",
    "\n",
    "# Print definitions\n",
    "print(f\"d = {d}\")\n",
    "print(f\"x = {x}\")\n",
    "print(f\"z = {z}\")\n"
   ]
  },
  {
   "cell_type": "code",
   "execution_count": 2,
   "id": "8013cf5d",
   "metadata": {},
   "outputs": [],
   "source": [
    "# Function to convert a finite field element to hexadecimal\n",
    "def Tohex(num):\n",
    "    # Check if the input is a finite field element or an integer\n",
    "    if hasattr(num, 'polynomial'):\n",
    "        poly = num.polynomial()\n",
    "        return sum(Integer(2)**i for i in poly.exponents())\n",
    "    elif isinstance(num, (int, Integer)):\n",
    "        # Convert an integer directly to its binary representation\n",
    "        return num\n",
    "    else:\n",
    "        raise TypeError(\"Unsupported type for Tohex: {}\".format(type(num)))\n",
    "    "
   ]
  },
  {
   "cell_type": "code",
   "execution_count": 3,
   "id": "ca767319",
   "metadata": {},
   "outputs": [
    {
     "name": "stdout",
     "output_type": "stream",
     "text": [
      "scalar: 0x105313dfcc10abff26e2953a162d9cca33f63fd151772bd8582c35adafd3cc9b4\n",
      "d =  0x86e5\n",
      "-----------FIXED BASE OUTPUTS----------------\n",
      "Hex P =  ('0x10cd56e74ed0bebf802c9f6207db53dcc489a0206502ddb9c127188efe8975d5d', '0x1')\n",
      "Point 2P: (t^253 + t^252 + t^250 + t^247 + t^246 + t^242 + t^241 + t^240 + t^239 + t^235 + t^232 + t^231 + t^230 + t^228 + t^227 + t^226 + t^225 + t^219 + t^218 + t^216 + t^213 + t^212 + t^208 + t^207 + t^206 + t^205 + t^201 + t^198 + t^197 + t^196 + t^194 + t^193 + t^192 + t^191 + t^185 + t^184 + t^182 + t^179 + t^178 + t^174 + t^173 + t^172 + t^171 + t^167 + t^164 + t^163 + t^162 + t^160 + t^159 + t^158 + t^157 + t^151 + t^150 + t^148 + t^145 + t^144 + t^140 + t^139 + t^138 + t^137 + t^133 + t^130 + t^129 + t^128 + t^126 + t^125 + t^124 + t^123 + t^117 + t^116 + t^114 + t^111 + t^110 + t^106 + t^105 + t^104 + t^103 + t^99 + t^96 + t^95 + t^94 + t^92 + t^91 + t^90 + t^89 + t^83 + t^82 + t^80 + t^77 + t^76 + t^72 + t^71 + t^70 + t^69 + t^65 + t^62 + t^61 + t^60 + t^58 + t^57 + t^56 + t^55 + t^49 + t^48 + t^46 + t^43 + t^42 + t^38 + t^37 + t^36 + t^35 + t^31 + t^28 + t^27 + t^26 + t^24 + t^23 + t^22 + t^21 + t^15 + t^14 + t^12 + t^9 + t^7 + t^5 + t^4 + t^3 + t^2, t^253 + t^252 + t^250 + t^247 + t^246 + t^242 + t^241 + t^240 + t^239 + t^235 + t^232 + t^231 + t^230 + t^228 + t^227 + t^226 + t^225 + t^219 + t^218 + t^216 + t^213 + t^212 + t^208 + t^207 + t^206 + t^205 + t^201 + t^198 + t^197 + t^196 + t^194 + t^193 + t^192 + t^191 + t^185 + t^184 + t^182 + t^179 + t^178 + t^174 + t^173 + t^172 + t^171 + t^167 + t^164 + t^163 + t^162 + t^160 + t^159 + t^158 + t^157 + t^151 + t^150 + t^148 + t^145 + t^144 + t^140 + t^139 + t^138 + t^137 + t^133 + t^130 + t^129 + t^128 + t^126 + t^125 + t^124 + t^123 + t^117 + t^116 + t^114 + t^111 + t^110 + t^106 + t^105 + t^104 + t^103 + t^99 + t^96 + t^95 + t^94 + t^92 + t^91 + t^90 + t^89 + t^83 + t^82 + t^80 + t^77 + t^76 + t^72 + t^71 + t^70 + t^69 + t^65 + t^62 + t^61 + t^60 + t^58 + t^57 + t^56 + t^55 + t^49 + t^48 + t^46 + t^43 + t^42 + t^38 + t^37 + t^36 + t^35 + t^31 + t^28 + t^27 + t^26 + t^24 + t^23 + t^22 + t^21 + t^14 + t^12 + t^10 + t^6 + t^4 + t^3 + 1)\n",
      "2P = ('0x34c789de0d31e277834c789de0d31e277834c789de0d31e277834c789de0d2bc', '0x34c789de0d31e277834c789de0d31e277834c789de0d31e277834c789de05459')\n",
      "Hex 2P =  ('0x67d1330bc22fa122bbf36ae7202ce7b9dfb1592b03c59a3425a7df13a359d7cc', '0x1')\n",
      "Hex P+2P =  ('0x79c4a660452a44dd4559127a642331d2b5f31cae9c7d558786e22ead269b4e2f', '0xf91e55cebfcd5780ef91e55cebfcd5780ef91e55cebfcd5780efb05642e7f0b2')\n",
      "Hex nP =  ('0xa9879d19ddb8adafb5655a545ec3cf653920bf0dec744b7bc3836b269f734ba3', '0x18aa5c189b65d4a8d4bdc20f26c6b1cf568deec7557e0a39a452655d79aa754b5')\n",
      "Hex res for fixed base=  0x7b5118887e8b087df1e0266fd032dd30da32431c0b76c09d9c88f7d8e96e02e\n"
     ]
    }
   ],
   "source": [
    "# Define point doubling in projective coordinates\n",
    "def point_doubling(P):\n",
    "    w2, z2 = P  # Projective coordinates (x1, z1)\n",
    "    c = w2*(w2 + z2)\n",
    "    w4 = c**2\n",
    "    z4 = d*(z2**4) + w4\n",
    "    return w4, z4\n",
    "\n",
    "\n",
    "# Define differential addition in projective coordinates\n",
    "def differential_addition(P, Q):\n",
    "    w2, z2 = P\n",
    "    w3, z3 = Q\n",
    "    c = w2 * (w2 + z2)\n",
    "    v = c * w3 * (w3 + z3)\n",
    "    z5 = v + (d * ((z2 * z3)**2))\n",
    "    w5 = v + (z5 * w1)\n",
    "    return (w5, z5)\n",
    "\n",
    "\n",
    "def scalarMultiplication(n, P):\n",
    "    w1,z1 = P\n",
    "    S = P  # S = P   \n",
    "    R = point_doubling(S)  # R = 2P\n",
    "\n",
    "    bitlen = n.nbits()  # Get number of bits in n\n",
    "    #print(bitlen)\n",
    "    for i in range(bitlen - 2, -1, -1):\n",
    "        bit = (n >> i) & 1  # Extract the i-th bit\n",
    "        if bit == 0:\n",
    "            R = differential_addition(S, R)  \n",
    "            S = point_doubling(S)\n",
    "        else:\n",
    "            S = differential_addition(S, R)\n",
    "            R = point_doubling(R)\n",
    "    return S\n",
    "\n",
    "\n",
    "#scalar input\n",
    "n=0x0105313dfcc10abff26e2953a162d9cca33f63fd151772bd8582c35adafd3cc9b4\n",
    "print(f\"scalar: {hex(n)}\")\n",
    "\n",
    "print(\"d = \", hex(Tohex(d)))\n",
    "\n",
    "# point P\n",
    "#w1 = 0x446FECB8442A062414D3EC77391C7B61D813A41DD409BDB2655B9C67B4AF7E1\n",
    "#w1 = 0x0446fecb8442a062414d3ec77391c7b61d813a41dd409bdb2655b9c67b4af7e1\n",
    "w1 = t^256 + t^251 + t^250 + t^247 + t^246 + t^244 + t^242 + t^240 + t^238 + t^237 + t^235 + t^234 + t^233 + t^230 + t^229 + t^228 + t^226 + t^223 + t^222 + t^221 + t^219 + t^218 + t^216 + t^211 + t^209 + t^208 + t^207 + t^206 + t^205 + t^203 + t^201 + t^200 + t^199 + t^198 + t^197 + t^196 + t^195 + t^185 + t^183 + t^182 + t^179 + t^176 + t^175 + t^174 + t^173 + t^172 + t^170 + t^169 + t^165 + t^158 + t^157 + t^156 + t^155 + t^154 + t^152 + t^151 + t^149 + t^148 + t^146 + t^144 + t^141 + t^140 + t^139 + t^138 + t^136 + t^135 + t^134 + t^131 + t^130 + t^126 + t^123 + t^119 + t^116 + t^115 + t^113 + t^105 + t^98 + t^97 + t^94 + t^92 + t^85 + t^83 + t^82 + t^80 + t^79 + t^78 + t^76 + t^75 + t^73 + t^72 + t^71 + t^68 + t^67 + t^66 + t^60 + t^57 + t^54 + t^53 + t^52 + t^48 + t^47 + t^43 + t^39 + t^38 + t^37 + t^35 + t^34 + t^33 + t^32 + t^31 + t^30 + t^29 + t^27 + t^23 + t^20 + t^18 + t^17 + t^16 + t^14 + t^12 + t^11 + t^10 + t^8 + t^6 + t^4 + t^3 + t^2 + 1\n",
    "z1 = 1\n",
    "P = (w1, z1)\n",
    "#print(f\"w1= {w1}\")\n",
    "# compute point dobling at point P\n",
    "#P_dbl = point_doubling(P)\n",
    "#print(f\"Point 2P: {P_dbl}\")\n",
    "\n",
    "#P_dadd = differential_addition(P_dbl, P)\n",
    "#print(f\"Point P+P_dbl: {P_dadd}\")\n",
    "\n",
    "#temp = differential_addition(P_dbl, P_dadd)\n",
    "#print(f\"Point 5P: {temp}\")\n",
    "print(\"-----------FIXED BASE OUTPUTS----------------\")\n",
    "#print(f\"Point P: {P}\")\n",
    "P__hex = (hex(Tohex(P[0])),hex(Tohex(P[1])))\n",
    "print(\"Hex P = \", P__hex)\n",
    "\n",
    "\n",
    "\n",
    "\n",
    "P_dbl = point_doubling(P)\n",
    "print(f\"Point 2P: {P_dbl}\")\n",
    "l = (hex(Tohex(P_dbl[0])),hex(Tohex(P_dbl[1])))\n",
    "print(\"2P =\", l)\n",
    "Pw = P_dbl[0]/P_dbl[1]\n",
    "Pz = 1\n",
    "P_dbl_hex = (hex(Tohex(Pw)),hex(Tohex(Pz)))\n",
    "print(\"Hex 2P = \", P_dbl_hex)\n",
    "\n",
    "P_dadd = differential_addition(P_dbl,P)\n",
    "P_dadd_hex = (hex(Tohex(P_dadd[0])),hex(Tohex(P_dadd[1])))\n",
    "print(\"Hex P+2P = \", P_dadd_hex)\n",
    "\n",
    "\n",
    "P_mult = scalarMultiplication(n, P)\n",
    "P_mult_hex = (hex(Tohex(P_mult[0])),hex(Tohex(P_mult[1])))\n",
    "\n",
    "#print(f\"Point nP: {P_mult}\")\n",
    "print(\"Hex nP = \", P_mult_hex)\n",
    "\n",
    "res = P_mult[0]/P_mult[1]\n",
    "#print(\"res = \", res)\n",
    "print(\"Hex res for fixed base= \", hex(Tohex(res)))\n"
   ]
  },
  {
   "cell_type": "code",
   "execution_count": 11,
   "id": "51d61e11",
   "metadata": {},
   "outputs": [
    {
     "name": "stdout",
     "output_type": "stream",
     "text": [
      "0x0\n"
     ]
    }
   ],
   "source": [
    "a = 0x7b5118887e8b087df1e0266fd032dd30da32431c0b76c09d9c88f7d8e96e02e\n",
    "b = 0x007b5118887e8b087df1e0266fd032dd30da32431c0b76c09d9c88f7d8e96e02e\n",
    "c = a - b\n",
    "print(hex(c))"
   ]
  },
  {
   "cell_type": "code",
   "execution_count": null,
   "id": "6a56b542",
   "metadata": {},
   "outputs": [],
   "source": []
  }
 ],
 "metadata": {
  "kernelspec": {
   "display_name": "SageMath 9.5",
   "language": "sage",
   "name": "sagemath"
  },
  "language_info": {
   "codemirror_mode": {
    "name": "ipython",
    "version": 3
   },
   "file_extension": ".py",
   "mimetype": "text/x-python",
   "name": "python",
   "nbconvert_exporter": "python",
   "pygments_lexer": "ipython3",
   "version": "3.10.12"
  }
 },
 "nbformat": 4,
 "nbformat_minor": 5
}
